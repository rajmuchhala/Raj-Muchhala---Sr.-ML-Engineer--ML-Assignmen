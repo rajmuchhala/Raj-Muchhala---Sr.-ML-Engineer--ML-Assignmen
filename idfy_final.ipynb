{
  "nbformat": 4,
  "nbformat_minor": 0,
  "metadata": {
    "colab": {
      "name": "idfy_final.ipynb",
      "provenance": [],
      "collapsed_sections": [],
      "authorship_tag": "ABX9TyOBZBQb3dFJk8OoxQwODGYF",
      "include_colab_link": true
    },
    "kernelspec": {
      "name": "python3",
      "display_name": "Python 3"
    }
  },
  "cells": [
    {
      "cell_type": "markdown",
      "metadata": {
        "id": "view-in-github",
        "colab_type": "text"
      },
      "source": [
        "<a href=\"https://colab.research.google.com/github/rajmuchhala/idfy/blob/master/idfy_final.ipynb\" target=\"_parent\"><img src=\"https://colab.research.google.com/assets/colab-badge.svg\" alt=\"Open In Colab\"/></a>"
      ]
    },
    {
      "cell_type": "code",
      "metadata": {
        "id": "c-3xpFR1xVPK",
        "colab_type": "code",
        "outputId": "e8f23294-2f1b-4430-8ed2-ce00a31f1665",
        "colab": {
          "base_uri": "https://localhost:8080/",
          "height": 35
        }
      },
      "source": [
        "# Importing required modules \n",
        "from zipfile import ZipFile \n",
        "import pandas as pd\n",
        "import string\n",
        "from google.colab import files\n",
        "import cv2\n",
        "from sklearn.utils import shuffle\n",
        "import numpy as np\n",
        "from matplotlib import pyplot as plt\n",
        "from keras.preprocessing.sequence import pad_sequences\n",
        "from tensorflow import keras\n",
        "from tensorflow.keras import layers\n",
        "import tensorflow as tf\n",
        "from tensorflow.keras.models import Model\n",
        "from keras.layers import Input\n",
        "import keras.backend as K\n",
        "from keras.models import load_model\n",
        "from sklearn.metrics import accuracy_score"
      ],
      "execution_count": 0,
      "outputs": [
        {
          "output_type": "stream",
          "text": [
            "Using TensorFlow backend.\n"
          ],
          "name": "stderr"
        }
      ]
    },
    {
      "cell_type": "code",
      "metadata": {
        "id": "m6FmST5FxDRW",
        "colab_type": "code",
        "colab": {}
      },
      "source": [
        "## Upload data on google colab\n",
        "uploaded = files.upload()\n",
        "\n",
        "for fn in uploaded.keys():\n",
        "  print('User uploaded file \"{name}\" with length {length} bytes'.format(\n",
        "      name=fn, length=len(uploaded[fn])))"
      ],
      "execution_count": 0,
      "outputs": []
    },
    {
      "cell_type": "code",
      "metadata": {
        "id": "Z-YmbV8NxLAG",
        "colab_type": "code",
        "colab": {}
      },
      "source": [
        "# specifying the zip file name \n",
        "file_name = \"crnn_model (1).zip\"\n",
        "  \n",
        "# opening the zip file in READ mode \n",
        "with ZipFile(file_name, 'r') as zip: \n",
        "    # printing all the contents of the zip file \n",
        "    zip.printdir() \n",
        "  \n",
        "    # extracting all the files \n",
        "    print('Extracting all the files now...') \n",
        "    zip.extractall() \n",
        "    print('Done!') "
      ],
      "execution_count": 0,
      "outputs": []
    },
    {
      "cell_type": "code",
      "metadata": {
        "id": "rzV7KpCcxNOb",
        "colab_type": "code",
        "outputId": "0cc93292-1f68-4f65-93e0-bdccd94e66fc",
        "colab": {
          "base_uri": "https://localhost:8080/",
          "height": 204
        }
      },
      "source": [
        "data = pd.read_csv(\"trainVal.csv\") \n",
        "# Preview the first 5 lines of the loaded data \n",
        "data.head()"
      ],
      "execution_count": 207,
      "outputs": [
        {
          "output_type": "execute_result",
          "data": {
            "text/html": [
              "<div>\n",
              "<style scoped>\n",
              "    .dataframe tbody tr th:only-of-type {\n",
              "        vertical-align: middle;\n",
              "    }\n",
              "\n",
              "    .dataframe tbody tr th {\n",
              "        vertical-align: top;\n",
              "    }\n",
              "\n",
              "    .dataframe thead th {\n",
              "        text-align: right;\n",
              "    }\n",
              "</style>\n",
              "<table border=\"1\" class=\"dataframe\">\n",
              "  <thead>\n",
              "    <tr style=\"text-align: right;\">\n",
              "      <th></th>\n",
              "      <th>track_id</th>\n",
              "      <th>image_path</th>\n",
              "      <th>lp</th>\n",
              "      <th>train</th>\n",
              "    </tr>\n",
              "  </thead>\n",
              "  <tbody>\n",
              "    <tr>\n",
              "      <th>0</th>\n",
              "      <td>./crop_m1/I00000.png</td>\n",
              "      <td>./crop_m1/I00000.png</td>\n",
              "      <td>9B52145</td>\n",
              "      <td>0</td>\n",
              "    </tr>\n",
              "    <tr>\n",
              "      <th>1</th>\n",
              "      <td>./crop_m1/I00000.png</td>\n",
              "      <td>./crop_h1/I00000.png</td>\n",
              "      <td>9B52145</td>\n",
              "      <td>0</td>\n",
              "    </tr>\n",
              "    <tr>\n",
              "      <th>2</th>\n",
              "      <td>./crop_m1/I00001.png</td>\n",
              "      <td>./crop_m1/I00001.png</td>\n",
              "      <td>6B94558</td>\n",
              "      <td>0</td>\n",
              "    </tr>\n",
              "    <tr>\n",
              "      <th>3</th>\n",
              "      <td>./crop_m1/I00001.png</td>\n",
              "      <td>./crop_h1/I00001.png</td>\n",
              "      <td>6B94558</td>\n",
              "      <td>0</td>\n",
              "    </tr>\n",
              "    <tr>\n",
              "      <th>4</th>\n",
              "      <td>./crop_m1/I00002.png</td>\n",
              "      <td>./crop_m1/I00002.png</td>\n",
              "      <td>8B90164</td>\n",
              "      <td>0</td>\n",
              "    </tr>\n",
              "  </tbody>\n",
              "</table>\n",
              "</div>"
            ],
            "text/plain": [
              "               track_id            image_path       lp  train\n",
              "0  ./crop_m1/I00000.png  ./crop_m1/I00000.png  9B52145      0\n",
              "1  ./crop_m1/I00000.png  ./crop_h1/I00000.png  9B52145      0\n",
              "2  ./crop_m1/I00001.png  ./crop_m1/I00001.png  6B94558      0\n",
              "3  ./crop_m1/I00001.png  ./crop_h1/I00001.png  6B94558      0\n",
              "4  ./crop_m1/I00002.png  ./crop_m1/I00002.png  8B90164      0"
            ]
          },
          "metadata": {
            "tags": []
          },
          "execution_count": 207
        }
      ]
    },
    {
      "cell_type": "code",
      "metadata": {
        "id": "Ku8577721qPn",
        "colab_type": "code",
        "colab": {}
      },
      "source": [
        "##Randomly Shuffle the dataframe before splitting the data\n",
        "data = shuffle(data)\n",
        "data.reset_index(inplace=True, drop=True)"
      ],
      "execution_count": 0,
      "outputs": []
    },
    {
      "cell_type": "code",
      "metadata": {
        "id": "dfvZCdj_xmOG",
        "colab_type": "code",
        "colab": {}
      },
      "source": [
        "## Helper functions to preprocess output labels to indices and vice versa\n",
        "\n",
        "# char_list:   'abcdefghijklmnopqrstuvwxyzABCDEFGHIJKLMNOPQRSTUVWXYZ0123456789'\n",
        "# total number of our output classes: len(char_list)\n",
        "char_list = string.ascii_letters+string.digits\n",
        "def encode_to_labels(txt):\n",
        "    # encoding each output word into digits\n",
        "    dig_lst = []\n",
        "    for index, char in enumerate(txt):\n",
        "        try:\n",
        "            dig_lst.append(char_list.index(char))\n",
        "        except:\n",
        "            print(char)\n",
        "        \n",
        "    return dig_lst\n",
        "\n",
        "# Reverse translation of numerical classes back to characters\n",
        "def labels_to_text(labels):\n",
        "    ret = []\n",
        "    for c in labels:\n",
        "      if(int(c)!=-1):\n",
        "        ret.append(char_list[c])\n",
        "    return \"\".join(ret)"
      ],
      "execution_count": 0,
      "outputs": []
    },
    {
      "cell_type": "code",
      "metadata": {
        "id": "QhG8DRG9x_MY",
        "colab_type": "code",
        "colab": {}
      },
      "source": [
        "##  Preprocess Training and Validation data and split them with 80/20 ratio\n",
        "# lists for training dataset\n",
        "training_img = []\n",
        "training_txt = []\n",
        "train_input_length = []\n",
        "train_label_length = []\n",
        "orig_txt = []\n",
        "\n",
        "#lists for validation dataset\n",
        "valid_img = []\n",
        "valid_txt = []\n",
        "valid_input_length = []\n",
        "valid_label_length = []\n",
        "valid_orig_txt = []\n",
        "\n",
        "max_label_len = 0\n",
        "\n",
        "\n",
        "for q in range(len(data)):\n",
        "    # read input image and convert into gray scale image\n",
        "    img = cv2.cvtColor(cv2.imread(data['image_path'][q]), cv2.COLOR_BGR2GRAY) \n",
        "    img = cv2.resize(img, (128, 32))\n",
        "    img = np.expand_dims(img , axis = 2)\n",
        "    # Normalize each image\n",
        "    img = img/255.\n",
        "    \n",
        "    # get the text from the image\n",
        "    txt = data['lp'][q]\n",
        "    \n",
        "    # compute maximum length of the text\n",
        "    if len(txt) > max_label_len:\n",
        "        max_label_len = len(txt)\n",
        "        \n",
        "        \n",
        "    # split the 652 data into validation and training dataset as 20% and 80% respectively\n",
        "    ## (Val = 0.2 * len(data) = 131, Train = len(data) - Val)\n",
        "    if q<131:     \n",
        "        valid_orig_txt.append(txt)   \n",
        "        valid_label_length.append(len(txt))\n",
        "        valid_input_length.append(31)\n",
        "        valid_img.append(img)\n",
        "        valid_txt.append(encode_to_labels(txt))\n",
        "    else:\n",
        "        orig_txt.append(txt)   \n",
        "        train_label_length.append(len(txt))\n",
        "        train_input_length.append(31)\n",
        "        training_img.append(img)\n",
        "        training_txt.append(encode_to_labels(txt)) \n",
        "    \n",
        "    \n",
        "# pad each output label to maximum text length\n",
        "\n",
        "train_padded_txt = pad_sequences(training_txt, maxlen=max_label_len, padding='post', value = len(char_list))\n",
        "valid_padded_txt = pad_sequences(valid_txt, maxlen=max_label_len, padding='post', value = len(char_list))\n",
        "\n",
        "### Covert the lists to numpy arrays\n",
        "training_img = np.array(training_img)\n",
        "train_input_length = np.array(train_input_length)\n",
        "train_label_length = np.array(train_label_length)\n",
        "\n",
        "valid_img = np.array(valid_img)\n",
        "valid_input_length = np.array(valid_input_length)\n",
        "valid_label_length = np.array(valid_label_length)"
      ],
      "execution_count": 0,
      "outputs": []
    },
    {
      "cell_type": "code",
      "metadata": {
        "id": "VN1YKdlEyw1_",
        "colab_type": "code",
        "outputId": "13455daa-505a-4956-c39e-43d3cc5090ff",
        "colab": {
          "base_uri": "https://localhost:8080/",
          "height": 809
        }
      },
      "source": [
        "#### Define the model \n",
        "\n",
        "##Input layer with dimensions(None,32,128,1)\n",
        "inputs = layers.Input(shape=(32,128,1))\n",
        " \n",
        "# convolution layer with kernel size (3,3)\n",
        "conv_1 = layers.Conv2D(64, (3,3), activation = 'relu', padding='same')(inputs)\n",
        "# poolig layer with kernel size (2,2)\n",
        "pool_1 = layers.MaxPool2D(pool_size=(2, 2), strides=2)(conv_1)\n",
        " \n",
        "conv_2 = layers.Conv2D(128, (3,3), activation = 'relu', padding='same')(pool_1)\n",
        "pool_2 = layers.MaxPool2D(pool_size=(2, 2), strides=2)(conv_2)\n",
        " \n",
        "conv_3 = layers.Conv2D(256, (3,3), activation = 'relu', padding='same')(pool_2)\n",
        " \n",
        "conv_4 = layers.Conv2D(256, (3,3), activation = 'relu', padding='same')(conv_3)\n",
        "# poolig layer with kernel size (2,1)\n",
        "pool_4 = layers.MaxPool2D(pool_size=(2, 1))(conv_4)\n",
        " \n",
        "conv_5 = layers.Conv2D(512, (3,3), activation = 'relu', padding='same')(pool_4)\n",
        "# Batch normalization layer\n",
        "batch_norm_5 = layers.BatchNormalization()(conv_5)\n",
        " \n",
        "conv_6 = layers.Conv2D(512, (3,3), activation = 'relu', padding='same')(batch_norm_5)\n",
        "batch_norm_6 = layers.BatchNormalization()(conv_6)\n",
        "pool_6 = layers.MaxPool2D(pool_size=(2, 1))(batch_norm_6)\n",
        " \n",
        "conv_7 = layers.Conv2D(512, (2,2), activation = 'relu')(pool_6)\n",
        " \n",
        "squeezed = layers.Lambda(lambda x: tf.keras.backend.squeeze(x, 1))(conv_7)\n",
        " \n",
        "# bidirectional LSTM layers with units=128\n",
        "lstm_1 = layers.LSTM(128, return_sequences=True, dropout = 0.2)\n",
        "lstm_2 = layers.LSTM(128, return_sequences=True, dropout = 0.2)\n",
        "blstm_1 = layers.Bidirectional(lstm_1)(squeezed)\n",
        "blstm_2 = layers.Bidirectional(lstm_2)(blstm_1)\n",
        " \n",
        "outputs = layers.Dense(len(char_list)+1, activation = 'softmax')(blstm_2)\n",
        "\n",
        "# model to be used at test time\n",
        "act_model = Model(inputs, outputs)\n",
        "\n",
        "act_model.summary()"
      ],
      "execution_count": 209,
      "outputs": [
        {
          "output_type": "stream",
          "text": [
            "Model: \"model_33\"\n",
            "_________________________________________________________________\n",
            "Layer (type)                 Output Shape              Param #   \n",
            "=================================================================\n",
            "input_17 (InputLayer)        [(None, 32, 128, 1)]      0         \n",
            "_________________________________________________________________\n",
            "conv2d_112 (Conv2D)          (None, 32, 128, 64)       640       \n",
            "_________________________________________________________________\n",
            "max_pooling2d_64 (MaxPooling (None, 16, 64, 64)        0         \n",
            "_________________________________________________________________\n",
            "conv2d_113 (Conv2D)          (None, 16, 64, 128)       73856     \n",
            "_________________________________________________________________\n",
            "max_pooling2d_65 (MaxPooling (None, 8, 32, 128)        0         \n",
            "_________________________________________________________________\n",
            "conv2d_114 (Conv2D)          (None, 8, 32, 256)        295168    \n",
            "_________________________________________________________________\n",
            "conv2d_115 (Conv2D)          (None, 8, 32, 256)        590080    \n",
            "_________________________________________________________________\n",
            "max_pooling2d_66 (MaxPooling (None, 4, 32, 256)        0         \n",
            "_________________________________________________________________\n",
            "conv2d_116 (Conv2D)          (None, 4, 32, 512)        1180160   \n",
            "_________________________________________________________________\n",
            "batch_normalization_32 (Batc (None, 4, 32, 512)        2048      \n",
            "_________________________________________________________________\n",
            "conv2d_117 (Conv2D)          (None, 4, 32, 512)        2359808   \n",
            "_________________________________________________________________\n",
            "batch_normalization_33 (Batc (None, 4, 32, 512)        2048      \n",
            "_________________________________________________________________\n",
            "max_pooling2d_67 (MaxPooling (None, 2, 32, 512)        0         \n",
            "_________________________________________________________________\n",
            "conv2d_118 (Conv2D)          (None, 1, 31, 512)        1049088   \n",
            "_________________________________________________________________\n",
            "lambda_16 (Lambda)           (None, 31, 512)           0         \n",
            "_________________________________________________________________\n",
            "bidirectional_32 (Bidirectio (None, 31, 256)           656384    \n",
            "_________________________________________________________________\n",
            "bidirectional_33 (Bidirectio (None, 31, 256)           394240    \n",
            "_________________________________________________________________\n",
            "dense_16 (Dense)             (None, 31, 63)            16191     \n",
            "=================================================================\n",
            "Total params: 6,619,711\n",
            "Trainable params: 6,617,663\n",
            "Non-trainable params: 2,048\n",
            "_________________________________________________________________\n"
          ],
          "name": "stdout"
        }
      ]
    },
    {
      "cell_type": "code",
      "metadata": {
        "id": "cSr5Lc6CzZIZ",
        "colab_type": "code",
        "colab": {}
      },
      "source": [
        "## Define CTC loss function and the training model using CTC loss\n",
        "\n",
        "labels = layers.Input(name='the_labels', shape=[max_label_len], dtype='float32')\n",
        "input_length = layers.Input(name='input_length', shape=[1], dtype='int64')\n",
        "label_length = layers.Input(name='label_length', shape=[1], dtype='int64')\n",
        " \n",
        "def ctc_lambda_func(args):\n",
        "    y_pred, labels, input_length, label_length = args\n",
        " \n",
        "    return K.ctc_batch_cost(labels, y_pred, input_length, label_length)\n",
        " \n",
        " \n",
        "loss_out = layers.Lambda(ctc_lambda_func, output_shape=(1,), name='ctc')([outputs, labels, input_length, label_length])\n",
        "\n",
        "#model to be used at training time\n",
        "model = Model(inputs=[inputs, labels, input_length, label_length], outputs=loss_out)"
      ],
      "execution_count": 0,
      "outputs": []
    },
    {
      "cell_type": "code",
      "metadata": {
        "id": "t7pNb8H0zpuB",
        "colab_type": "code",
        "colab": {}
      },
      "source": [
        "## Compile the model\n",
        "model.compile(loss={'ctc': lambda y_true, y_pred: y_pred}, optimizer = 'adam',metrics=['accuracy'])\n",
        "\n",
        "##Load pre-trained model as new_model\n",
        "pretrained_model = load_model(\"crnn_model.h5\")\n",
        "\n",
        "##Load pre-trained weights and use them as initialization to re-train the model with our own data\n",
        "act_model.set_weights(pretrained_model.get_weights())\n"
      ],
      "execution_count": 0,
      "outputs": []
    },
    {
      "cell_type": "code",
      "metadata": {
        "id": "JsRdnXaI0Eof",
        "colab_type": "code",
        "colab": {}
      },
      "source": [
        "### Save the model after fine tuning on our own dataset\n",
        "filepath=\"best_model.hdf5\"\n",
        "checkpoint = tf.keras.callbacks.ModelCheckpoint(filepath=filepath, monitor='val_loss', verbose=0, save_best_only=True, mode='auto')\n",
        "callbacks_list = [checkpoint]"
      ],
      "execution_count": 0,
      "outputs": []
    },
    {
      "cell_type": "code",
      "metadata": {
        "id": "opuNEXoV0GhM",
        "colab_type": "code",
        "colab": {}
      },
      "source": [
        "### Train the model\n",
        "batch_size = 16\n",
        "epochs = 10\n",
        "history = model.fit(x=[training_img, train_padded_txt, train_input_length, train_label_length], y=np.zeros(len(training_img)), batch_size=batch_size, epochs = epochs, validation_data = ([valid_img, valid_padded_txt, valid_input_length, valid_label_length], [np.zeros(len(valid_img))]), verbose = 1, callbacks = callbacks_list)"
      ],
      "execution_count": 0,
      "outputs": []
    },
    {
      "cell_type": "code",
      "metadata": {
        "id": "pmTtjyKa1XYB",
        "colab_type": "code",
        "colab": {
          "base_uri": "https://localhost:8080/",
          "height": 295
        },
        "outputId": "ca1c482b-1650-4310-ce50-ad9abd050276"
      },
      "source": [
        "### Plot the training and validation loss versus epochs\n",
        "plt.plot(history.history['loss'])\n",
        "plt.plot(history.history['val_loss'])\n",
        "plt.title('model loss')\n",
        "plt.ylabel('loss')\n",
        "plt.xlabel('epoch')\n",
        "plt.legend(['train', 'val'], loc='upper left')\n",
        "plt.show()"
      ],
      "execution_count": 101,
      "outputs": [
        {
          "output_type": "display_data",
          "data": {
            "image/png": "[encoded data removed]",
            "text/plain": [
              "<Figure size 432x288 with 1 Axes>"
            ]
          },
          "metadata": {
            "tags": [],
            "needs_background": "light"
          }
        }
      ]
    },
    {
      "cell_type": "code",
      "metadata": {
        "id": "m9xlLIS51sNQ",
        "colab_type": "code",
        "colab": {
          "base_uri": "https://localhost:8080/",
          "height": 287
        },
        "outputId": "c613eee6-2f93-4cd1-a1bf-07ded9f3ade3"
      },
      "source": [
        "#Visualize and predict outputs on few validation images\n",
        "act_model.load_weights('best_model.hdf5')\n",
        "prediction = act_model.predict(valid_img[:5])\n",
        " \n",
        "# use CTC decoder\n",
        "out = K.get_value(K.ctc_decode(prediction, input_length=np.ones(prediction.shape[0])*prediction.shape[1],\n",
        "                               greedy=True)[0][0])\n",
        " \n",
        "\n",
        "# see the results\n",
        "i = 0\n",
        "for x in out:\n",
        "    print(\"original_text  =\", valid_orig_txt[i])\n",
        "    print(\"predicted text = \", end = '')\n",
        "    for p in x:  \n",
        "        if int(p) != -1:\n",
        "            print(char_list[int(p)], end = '')       \n",
        "    print('\\n')\n",
        "    i+=1"
      ],
      "execution_count": 195,
      "outputs": [
        {
          "output_type": "stream",
          "text": [
            "original_text  = 8B81013\n",
            "predicted text = 8B81013\n",
            "\n",
            "original_text  = 3B38140\n",
            "predicted text = 3B38140\n",
            "\n",
            "original_text  = 5B26675\n",
            "predicted text = 5B26675\n",
            "\n",
            "original_text  = 8T52099\n",
            "predicted text = 8T52099\n",
            "\n",
            "original_text  = 3AJ8930\n",
            "predicted text = 3AJ8930\n",
            "\n"
          ],
          "name": "stdout"
        }
      ]
    },
    {
      "cell_type": "code",
      "metadata": {
        "id": "eAkqZCIH16HG",
        "colab_type": "code",
        "colab": {
          "base_uri": "https://localhost:8080/",
          "height": 35
        },
        "outputId": "57724717-89eb-465f-aa7b-09c58dba7bd6"
      },
      "source": [
        "### Calculate accuracy on validation(test) set using the best saved model\n",
        "# predict outputs on few validation images\n",
        "prediction = act_model.predict(valid_img)\n",
        " \n",
        "# use CTC decoder\n",
        "out = K.get_value(K.ctc_decode(prediction, input_length=np.ones(prediction.shape[0])*prediction.shape[1],\n",
        "                         greedy=True)[0][0])\n",
        "\n",
        "##Predictions\n",
        "preds = []\n",
        "for p in out:\n",
        "  preds.append(labels_to_text(p))\n",
        "\n",
        "##Ground truths\n",
        "orig = []\n",
        "for i in range(len(valid_orig_txt)):\n",
        "  orig.append(valid_orig_txt[i])\n",
        "\n",
        "##Test Accuracy\n",
        "print('Test accuracy for the OCR solution is ',accuracy_score(orig, preds)*100,'%')"
      ],
      "execution_count": 196,
      "outputs": [
        {
          "output_type": "stream",
          "text": [
            "Test accuracy for the OCR solution is  96.18320610687023 %\n"
          ],
          "name": "stdout"
        }
      ]
    },
    {
      "cell_type": "code",
      "metadata": {
        "id": "-lHkFwJHbtGQ",
        "colab_type": "code",
        "colab": {
          "base_uri": "https://localhost:8080/",
          "height": 35
        },
        "outputId": "2f26f7f5-fb88-457f-b8bb-b193dfc69c77"
      },
      "source": [
        "### Test our OCR model on your own cropped license plate image\n",
        "def test_ocr(image_path):\n",
        "  # read input image and convert into gray scale image\n",
        "    img = cv2.cvtColor(cv2.imread(image_path), cv2.COLOR_BGR2GRAY) \n",
        "    img = cv2.resize(img, (128, 32))\n",
        "    img = np.expand_dims(img , axis = 2)\n",
        "    # Normalize each image\n",
        "    img = img/255.\n",
        "    img = np.expand_dims(img , axis = 0)\n",
        "    \n",
        "    ##Load our best saved model as act_model\n",
        "    act_model.load_weights('best_model.hdf5')\n",
        "\n",
        "    ##Predict using the trained model\n",
        "    prediction = act_model.predict(img)\n",
        "    # use CTC decoder\n",
        "    out = K.get_value(K.ctc_decode(prediction, input_length=np.ones(prediction.shape[0])*prediction.shape[1],\n",
        "                         greedy=True)[0][0])\n",
        "    # see the results\n",
        "    for x in out:\n",
        "        print(\"predicted text = \", end = '')\n",
        "        for p in x:  \n",
        "            if int(p) != -1:\n",
        "                print(char_list[int(p)], end = '')  \n",
        "\n",
        "## Change the image_path variable to your own image path \n",
        "image_path = 'test_image.png'  \n",
        "test_ocr(image_path)"
      ],
      "execution_count": 217,
      "outputs": [
        {
          "output_type": "stream",
          "text": [
            "predicted text = 7B11123"
          ],
          "name": "stdout"
        }
      ]
    }
  ]
}